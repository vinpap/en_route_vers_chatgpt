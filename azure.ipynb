{
 "cells": [
  {
   "cell_type": "markdown",
   "id": "211112c7",
   "metadata": {},
   "source": [
    "# Analyse de sentiments avec Azure"
   ]
  },
  {
   "cell_type": "markdown",
   "id": "68c50ec7",
   "metadata": {},
   "source": [
    "Ici, nous allons utiliser Azure pour faire une analyse de sentiments sur les mêmes données que dans le notebook 3 de ce brief."
   ]
  },
  {
   "cell_type": "code",
   "execution_count": 1,
   "id": "c14a3e15",
   "metadata": {},
   "outputs": [
    {
     "data": {
      "text/html": [
       "<div>\n",
       "<style scoped>\n",
       "    .dataframe tbody tr th:only-of-type {\n",
       "        vertical-align: middle;\n",
       "    }\n",
       "\n",
       "    .dataframe tbody tr th {\n",
       "        vertical-align: top;\n",
       "    }\n",
       "\n",
       "    .dataframe thead th {\n",
       "        text-align: right;\n",
       "    }\n",
       "</style>\n",
       "<table border=\"1\" class=\"dataframe\">\n",
       "  <thead>\n",
       "    <tr style=\"text-align: right;\">\n",
       "      <th></th>\n",
       "      <th>target</th>\n",
       "      <th>reviews</th>\n",
       "    </tr>\n",
       "  </thead>\n",
       "  <tbody>\n",
       "    <tr>\n",
       "      <th>0</th>\n",
       "      <td>neg</td>\n",
       "      <td>plot : two teen couples go to a church party ,...</td>\n",
       "    </tr>\n",
       "    <tr>\n",
       "      <th>1</th>\n",
       "      <td>neg</td>\n",
       "      <td>the happy bastard's quick movie review \\ndamn ...</td>\n",
       "    </tr>\n",
       "    <tr>\n",
       "      <th>2</th>\n",
       "      <td>neg</td>\n",
       "      <td>it is movies like these that make a jaded movi...</td>\n",
       "    </tr>\n",
       "    <tr>\n",
       "      <th>3</th>\n",
       "      <td>neg</td>\n",
       "      <td>\" quest for camelot \" is warner bros . ' firs...</td>\n",
       "    </tr>\n",
       "    <tr>\n",
       "      <th>4</th>\n",
       "      <td>neg</td>\n",
       "      <td>synopsis : a mentally unstable man undergoing ...</td>\n",
       "    </tr>\n",
       "    <tr>\n",
       "      <th>5</th>\n",
       "      <td>neg</td>\n",
       "      <td>capsule : in 2176 on the planet mars police ta...</td>\n",
       "    </tr>\n",
       "    <tr>\n",
       "      <th>6</th>\n",
       "      <td>neg</td>\n",
       "      <td>so ask yourself what \" 8mm \" ( \" eight millime...</td>\n",
       "    </tr>\n",
       "    <tr>\n",
       "      <th>7</th>\n",
       "      <td>neg</td>\n",
       "      <td>that's exactly how long the movie felt to me ....</td>\n",
       "    </tr>\n",
       "    <tr>\n",
       "      <th>8</th>\n",
       "      <td>neg</td>\n",
       "      <td>call it a road trip for the walking wounded . ...</td>\n",
       "    </tr>\n",
       "    <tr>\n",
       "      <th>9</th>\n",
       "      <td>neg</td>\n",
       "      <td>plot : a young french boy sees his parents kil...</td>\n",
       "    </tr>\n",
       "  </tbody>\n",
       "</table>\n",
       "</div>"
      ],
      "text/plain": [
       "  target                                            reviews\n",
       "0    neg  plot : two teen couples go to a church party ,...\n",
       "1    neg  the happy bastard's quick movie review \\ndamn ...\n",
       "2    neg  it is movies like these that make a jaded movi...\n",
       "3    neg   \" quest for camelot \" is warner bros . ' firs...\n",
       "4    neg  synopsis : a mentally unstable man undergoing ...\n",
       "5    neg  capsule : in 2176 on the planet mars police ta...\n",
       "6    neg  so ask yourself what \" 8mm \" ( \" eight millime...\n",
       "7    neg  that's exactly how long the movie felt to me ....\n",
       "8    neg  call it a road trip for the walking wounded . ...\n",
       "9    neg  plot : a young french boy sees his parents kil..."
      ]
     },
     "execution_count": 1,
     "metadata": {},
     "output_type": "execute_result"
    }
   ],
   "source": [
    "import pickle\n",
    "import string\n",
    "import pandas as pd\n",
    "\n",
    "with open(\"reviews_2\", \"rb\") as pkl_reviews: data = pickle.load(pkl_reviews)\n",
    "\n",
    "data.head(10)"
   ]
  },
  {
   "cell_type": "code",
   "execution_count": 2,
   "id": "8164977e",
   "metadata": {},
   "outputs": [],
   "source": [
    "def remove_punctuations(text):\n",
    "    for punctuation in string.punctuation:\n",
    "        text = text.replace(punctuation, '')\n",
    "    return text\n",
    "\n",
    "def lower_all(text): return text.lower()\n",
    "\n",
    "data[\"clean_text\"] = data['reviews'].apply(remove_punctuations)\n",
    "data[\"clean_text\"] = data['clean_text'].apply(lower_all)"
   ]
  },
  {
   "cell_type": "code",
   "execution_count": 3,
   "id": "46929eb6",
   "metadata": {},
   "outputs": [
    {
     "name": "stderr",
     "output_type": "stream",
     "text": [
      "/tmp/ipykernel_38285/2691663882.py:5: SettingWithCopyWarning: \n",
      "A value is trying to be set on a copy of a slice from a DataFrame\n",
      "\n",
      "See the caveats in the documentation: https://pandas.pydata.org/pandas-docs/stable/user_guide/indexing.html#returning-a-view-versus-a-copy\n",
      "  reviews.drop(columns=[\"target\", \"reviews\"], inplace=True)\n",
      "/tmp/ipykernel_38285/2691663882.py:6: SettingWithCopyWarning: \n",
      "A value is trying to be set on a copy of a slice from a DataFrame\n",
      "\n",
      "See the caveats in the documentation: https://pandas.pydata.org/pandas-docs/stable/user_guide/indexing.html#returning-a-view-versus-a-copy\n",
      "  reviews.rename(columns={\"clean_text\": \"text\"}, inplace=True)\n",
      "/tmp/ipykernel_38285/2691663882.py:8: SettingWithCopyWarning: \n",
      "A value is trying to be set on a copy of a slice from a DataFrame.\n",
      "Try using .loc[row_indexer,col_indexer] = value instead\n",
      "\n",
      "See the caveats in the documentation: https://pandas.pydata.org/pandas-docs/stable/user_guide/indexing.html#returning-a-view-versus-a-copy\n",
      "  reviews[\"id\"] = reviews.index\n"
     ]
    }
   ],
   "source": [
    "# Ici on prépare un échantillon de 10 textes (les 10 premiers du dataset)\n",
    "# Il faut envoyer à Azure une liste de dictionnaires, d'où le code ci-dessous\n",
    "text = data.iloc[:10]\n",
    "reviews = data.iloc[:10]\n",
    "reviews.drop(columns=[\"target\", \"reviews\"], inplace=True)\n",
    "reviews.rename(columns={\"clean_text\": \"text\"}, inplace=True)\n",
    "reviews.reset_index(drop=True, inplace=True)\n",
    "reviews[\"id\"] = reviews.index\n",
    "reviews = reviews.to_dict('records')"
   ]
  },
  {
   "cell_type": "code",
   "execution_count": 4,
   "id": "c96d16d3",
   "metadata": {},
   "outputs": [
    {
     "name": "stdout",
     "output_type": "stream",
     "text": [
      "Ready to use cognitive services at https://azure-ai900-vincent-31012023.cognitiveservices.azure.com/ using key d89ce3782b5544a0aa9683d4f72bb915\n"
     ]
    }
   ],
   "source": [
    "cog_key = 'd89ce3782b5544a0aa9683d4f72bb915'\n",
    "cog_endpoint = 'https://azure-ai900-vincent-31012023.cognitiveservices.azure.com/'\n",
    "\n",
    "print('Ready to use cognitive services at {} using key {}'.format(cog_endpoint, cog_key))"
   ]
  },
  {
   "cell_type": "code",
   "execution_count": 5,
   "id": "d6979d07",
   "metadata": {},
   "outputs": [],
   "source": [
    "import os\n",
    "from azure.cognitiveservices.language.textanalytics import TextAnalyticsClient\n",
    "from msrest.authentication import CognitiveServicesCredentials\n",
    "\n",
    "# Get a client for your text analytics cognitive service resource\n",
    "text_analytics_client = TextAnalyticsClient(endpoint=cog_endpoint,\n",
    "                                            credentials=CognitiveServicesCredentials(cog_key))\n"
   ]
  },
  {
   "cell_type": "code",
   "execution_count": 6,
   "id": "db5243b2",
   "metadata": {},
   "outputs": [
    {
     "name": "stdout",
     "output_type": "stream",
     "text": [
      "negative\n",
      "positive\n",
      "positive\n",
      "positive\n",
      "negative\n",
      "negative\n",
      "negative\n",
      "positive\n",
      "negative\n",
      "negative\n"
     ]
    }
   ],
   "source": [
    "# Use the client and reviews you created previously to get sentiment scores\n",
    "sentiment_analysis = text_analytics_client.sentiment(documents=reviews)\n",
    "\n",
    "sentiments = []\n",
    "for review_num in range(len(reviews)):\n",
    "    \n",
    "    \n",
    "    # Get the sentiment score for this review\n",
    "    try: sentiment_score = sentiment_analysis.documents[review_num].score\n",
    "    except IndexError: break\n",
    "\n",
    "    # classifiy 'positive' if more than 0.5, \n",
    "    if sentiment_score < 0.5:\n",
    "        sentiment = 'negative'\n",
    "    else:\n",
    "        sentiment = 'positive'\n",
    "    \n",
    "    text_sentiment = {\"text\": reviews[review_num][\"text\"],\n",
    "                     \"sentiment\": sentiment,\n",
    "                     \"score\": sentiment_score}\n",
    "    \n",
    "    sentiments.append(text_sentiment)\n",
    "\n",
    "for s in sentiments:\n",
    "    print(s[\"sentiment\"])"
   ]
  },
  {
   "cell_type": "markdown",
   "id": "e807c19c",
   "metadata": {},
   "source": [
    "Même sans calculer de métriques de performances, on constate que les sentiments prédits par Azure diffèrent largement de ceux indiqués dans le dataset. On peut imaginer deux explications à cela :\n",
    "- Le modèle de prédiction d'Azure n'est pas performant\n",
    "- Azure Cognitive Services et les personnes qui ont créé le dataset n'ont pas la même définition de ce que le sentiment d'un texte représente. C'est cette explication qui paraît la plus plausible ici."
   ]
  },
  {
   "cell_type": "code",
   "execution_count": null,
   "id": "259554db",
   "metadata": {},
   "outputs": [],
   "source": []
  }
 ],
 "metadata": {
  "kernelspec": {
   "display_name": "Python 3 (ipykernel)",
   "language": "python",
   "name": "python3"
  },
  "language_info": {
   "codemirror_mode": {
    "name": "ipython",
    "version": 3
   },
   "file_extension": ".py",
   "mimetype": "text/x-python",
   "name": "python",
   "nbconvert_exporter": "python",
   "pygments_lexer": "ipython3",
   "version": "3.10.6"
  }
 },
 "nbformat": 4,
 "nbformat_minor": 5
}
