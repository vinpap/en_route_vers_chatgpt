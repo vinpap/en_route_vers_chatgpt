{
 "cells": [
  {
   "cell_type": "markdown",
   "metadata": {},
   "source": [
    "# Movie Reviews"
   ]
  },
  {
   "cell_type": "code",
   "execution_count": 15,
   "metadata": {},
   "outputs": [
    {
     "data": {
      "text/html": [
       "<div>\n",
       "<style scoped>\n",
       "    .dataframe tbody tr th:only-of-type {\n",
       "        vertical-align: middle;\n",
       "    }\n",
       "\n",
       "    .dataframe tbody tr th {\n",
       "        vertical-align: top;\n",
       "    }\n",
       "\n",
       "    .dataframe thead th {\n",
       "        text-align: right;\n",
       "    }\n",
       "</style>\n",
       "<table border=\"1\" class=\"dataframe\">\n",
       "  <thead>\n",
       "    <tr style=\"text-align: right;\">\n",
       "      <th></th>\n",
       "      <th>target</th>\n",
       "      <th>reviews</th>\n",
       "    </tr>\n",
       "  </thead>\n",
       "  <tbody>\n",
       "    <tr>\n",
       "      <th>0</th>\n",
       "      <td>neg</td>\n",
       "      <td>plot : two teen couples go to a church party ,...</td>\n",
       "    </tr>\n",
       "    <tr>\n",
       "      <th>1</th>\n",
       "      <td>neg</td>\n",
       "      <td>the happy bastard's quick movie review \\ndamn ...</td>\n",
       "    </tr>\n",
       "    <tr>\n",
       "      <th>2</th>\n",
       "      <td>neg</td>\n",
       "      <td>it is movies like these that make a jaded movi...</td>\n",
       "    </tr>\n",
       "    <tr>\n",
       "      <th>3</th>\n",
       "      <td>neg</td>\n",
       "      <td>\" quest for camelot \" is warner bros . ' firs...</td>\n",
       "    </tr>\n",
       "    <tr>\n",
       "      <th>4</th>\n",
       "      <td>neg</td>\n",
       "      <td>synopsis : a mentally unstable man undergoing ...</td>\n",
       "    </tr>\n",
       "  </tbody>\n",
       "</table>\n",
       "</div>"
      ],
      "text/plain": [
       "  target                                            reviews\n",
       "0    neg  plot : two teen couples go to a church party ,...\n",
       "1    neg  the happy bastard's quick movie review \\ndamn ...\n",
       "2    neg  it is movies like these that make a jaded movi...\n",
       "3    neg   \" quest for camelot \" is warner bros . ' firs...\n",
       "4    neg  synopsis : a mentally unstable man undergoing ..."
      ]
     },
     "execution_count": 15,
     "metadata": {},
     "output_type": "execute_result"
    }
   ],
   "source": [
    "import pickle\n",
    "import string\n",
    "import pandas as pd\n",
    "from sklearn.feature_extraction.text import CountVectorizer, TfidfVectorizer\n",
    "from sklearn.naive_bayes import MultinomialNB\n",
    "from sklearn.model_selection import KFold, cross_val_score\n",
    "\n",
    "\n",
    "with open(\"reviews\", \"rb\") as pkl_reviews: data = pickle.load(pkl_reviews)\n",
    "\n",
    "data.head()"
   ]
  },
  {
   "cell_type": "markdown",
   "metadata": {},
   "source": [
    "The dataset is made up of positive and negative movie reviews."
   ]
  },
  {
   "cell_type": "markdown",
   "metadata": {},
   "source": [
    "## Preprocessing\n",
    "\n",
    "👇 Remove punctuation and lower case the text."
   ]
  },
  {
   "cell_type": "code",
   "execution_count": 16,
   "metadata": {},
   "outputs": [
    {
     "name": "stdout",
     "output_type": "stream",
     "text": [
      "  target                                            reviews  \\\n",
      "0    neg  plot : two teen couples go to a church party ,...   \n",
      "1    neg  the happy bastard's quick movie review \\ndamn ...   \n",
      "2    neg  it is movies like these that make a jaded movi...   \n",
      "3    neg   \" quest for camelot \" is warner bros . ' firs...   \n",
      "4    neg  synopsis : a mentally unstable man undergoing ...   \n",
      "\n",
      "                                          clean_text  \n",
      "0  plot  two teen couples go to a church party  d...  \n",
      "1  the happy bastards quick movie review \\ndamn t...  \n",
      "2  it is movies like these that make a jaded movi...  \n",
      "3    quest for camelot  is warner bros   first fe...  \n",
      "4  synopsis  a mentally unstable man undergoing p...  \n"
     ]
    }
   ],
   "source": [
    "def remove_punctuations(text):\n",
    "    for punctuation in string.punctuation:\n",
    "        text = text.replace(punctuation, '')\n",
    "    return text\n",
    "\n",
    "def lower_all(text): return text.lower()\n",
    "\n",
    "data[\"clean_text\"] = data['reviews'].apply(remove_punctuations)\n",
    "data[\"clean_text\"] = data['clean_text'].apply(lower_all)\n",
    "print(data.head())"
   ]
  },
  {
   "cell_type": "markdown",
   "metadata": {},
   "source": [
    "## Bag-of-Words modelling"
   ]
  },
  {
   "cell_type": "markdown",
   "metadata": {},
   "source": [
    "👇 Using `cross_validate`, score a Multinomial Naive Bayes model trained on a Bag-of-Word representation of the texts."
   ]
  },
  {
   "cell_type": "code",
   "execution_count": 30,
   "metadata": {},
   "outputs": [
    {
     "name": "stdout",
     "output_type": "stream",
     "text": [
      "Accuracies with cross_validation:\n",
      "[0.81  0.87  0.825 0.81  0.795 0.83  0.835 0.81  0.76  0.8  ]\n",
      "Mean accuracy: 0.8145000000000001\n"
     ]
    }
   ],
   "source": [
    "vectorizer = CountVectorizer()\n",
    "X_bow = vectorizer.fit_transform(data[\"clean_text\"])\n",
    "\n",
    "\n",
    "model = MultinomialNB()\n",
    "k_fold = KFold(n_splits=10, shuffle=True, random_state=0)\n",
    "clf = model\n",
    "results = cross_val_score(clf, X_bow, data[\"target\"], cv=k_fold, n_jobs=1)\n",
    "print(\"Accuracies with cross_validation:\")\n",
    "print(results)\n",
    "print(f\"Mean accuracy: {results.mean()}\")"
   ]
  },
  {
   "cell_type": "markdown",
   "metadata": {},
   "source": [
    "## N-gram modelling"
   ]
  },
  {
   "cell_type": "markdown",
   "metadata": {},
   "source": [
    "👇 Using `cross_validate`, score a Multinomial Naive Bayes model trained on a 2-gram Bag-of-Word representation of the texts."
   ]
  },
  {
   "cell_type": "code",
   "execution_count": 31,
   "metadata": {},
   "outputs": [
    {
     "name": "stderr",
     "output_type": "stream",
     "text": [
      "/home/vincent/.local/lib/python3.10/site-packages/sklearn/utils/deprecation.py:87: FutureWarning: Function get_feature_names is deprecated; get_feature_names is deprecated in 1.0 and will be removed in 1.2. Please use get_feature_names_out instead.\n",
      "  warnings.warn(msg, category=FutureWarning)\n"
     ]
    },
    {
     "name": "stdout",
     "output_type": "stream",
     "text": [
      "   00 am  00 feet  00 for  00 if  00 showing  00 sunday  00 wasnt  000 000  \\\n",
      "0    0.0      0.0     0.0    0.0         0.0        0.0       0.0      0.0   \n",
      "1    0.0      0.0     0.0    0.0         0.0        0.0       0.0      0.0   \n",
      "2    0.0      0.0     0.0    0.0         0.0        0.0       0.0      0.0   \n",
      "3    0.0      0.0     0.0    0.0         0.0        0.0       0.0      0.0   \n",
      "4    0.0      0.0     0.0    0.0         0.0        0.0       0.0      0.0   \n",
      "\n",
      "   000 and  000 at  ...  zwick thinks  zwicks 1994  zwicks courage  \\\n",
      "0      0.0     0.0  ...           0.0          0.0             0.0   \n",
      "1      0.0     0.0  ...           0.0          0.0             0.0   \n",
      "2      0.0     0.0  ...           0.0          0.0             0.0   \n",
      "3      0.0     0.0  ...           0.0          0.0             0.0   \n",
      "4      0.0     0.0  ...           0.0          0.0             0.0   \n",
      "\n",
      "   zwicks favorite  zwicks latest  zwicks the  zwigoffs brilliant  \\\n",
      "0              0.0            0.0         0.0                 0.0   \n",
      "1              0.0            0.0         0.0                 0.0   \n",
      "2              0.0            0.0         0.0                 0.0   \n",
      "3              0.0            0.0         0.0                 0.0   \n",
      "4              0.0            0.0         0.0                 0.0   \n",
      "\n",
      "   zwigoffs superb  zycie masterfully  zycie za  \n",
      "0              0.0                0.0       0.0  \n",
      "1              0.0                0.0       0.0  \n",
      "2              0.0                0.0       0.0  \n",
      "3              0.0                0.0       0.0  \n",
      "4              0.0                0.0       0.0  \n",
      "\n",
      "[5 rows x 507275 columns]\n"
     ]
    }
   ],
   "source": [
    "vectorizer = TfidfVectorizer(ngram_range=(2, 2))\n",
    "X_bow = vectorizer.fit_transform(data[\"clean_text\"])\n",
    "X_bow_sparse = pd.DataFrame(X_bow.toarray(), columns=vectorizer.get_feature_names())\n",
    "print(X_bow_sparse.head())"
   ]
  },
  {
   "cell_type": "code",
   "execution_count": 32,
   "metadata": {},
   "outputs": [
    {
     "name": "stdout",
     "output_type": "stream",
     "text": [
      "Accuracies with cross_validation:\n",
      "[0.805 0.855 0.805 0.78  0.835 0.88  0.865 0.865 0.8   0.81 ]\n",
      "Mean accuracy: 0.8299999999999998\n"
     ]
    }
   ],
   "source": [
    "model = MultinomialNB()\n",
    "k_fold = KFold(n_splits=10, shuffle=True, random_state=0)\n",
    "clf = model\n",
    "results = cross_val_score(clf, X_bow, data[\"target\"], cv=k_fold, n_jobs=1)\n",
    "print(\"Accuracies with cross_validation:\")\n",
    "print(results)\n",
    "print(f\"Mean accuracy: {results.mean()}\")"
   ]
  },
  {
   "cell_type": "markdown",
   "metadata": {},
   "source": [
    "⚠️ Please push the exercise once you are done 🙃\n",
    "\n",
    "## 🏁 "
   ]
  }
 ],
 "metadata": {
  "kernelspec": {
   "display_name": "Python 3 (ipykernel)",
   "language": "python",
   "name": "python3"
  },
  "language_info": {
   "codemirror_mode": {
    "name": "ipython",
    "version": 3
   },
   "file_extension": ".py",
   "mimetype": "text/x-python",
   "name": "python",
   "nbconvert_exporter": "python",
   "pygments_lexer": "ipython3",
   "version": "3.10.6"
  },
  "toc": {
   "base_numbering": 1,
   "nav_menu": {},
   "number_sections": false,
   "sideBar": true,
   "skip_h1_title": false,
   "title_cell": "Table of Contents",
   "title_sidebar": "Contents",
   "toc_cell": false,
   "toc_position": {},
   "toc_section_display": true,
   "toc_window_display": true
  }
 },
 "nbformat": 4,
 "nbformat_minor": 4
}
