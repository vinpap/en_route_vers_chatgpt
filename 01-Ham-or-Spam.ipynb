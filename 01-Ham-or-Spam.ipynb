{
 "cells": [
  {
   "cell_type": "markdown",
   "metadata": {},
   "source": [
    "# Ham or Spam?"
   ]
  },
  {
   "cell_type": "code",
   "execution_count": 1,
   "metadata": {},
   "outputs": [
    {
     "name": "stdout",
     "output_type": "stream",
     "text": [
      "Defaulting to user installation because normal site-packages is not writeable\n",
      "Requirement already satisfied: nltk in /home/vincent/.local/lib/python3.10/site-packages (3.8)\n",
      "Requirement already satisfied: click in /home/vincent/.local/lib/python3.10/site-packages (from nltk) (8.1.3)\n",
      "Requirement already satisfied: joblib in /home/vincent/.local/lib/python3.10/site-packages (from nltk) (1.2.0)\n",
      "Requirement already satisfied: tqdm in /home/vincent/.local/lib/python3.10/site-packages (from nltk) (4.64.1)\n",
      "Requirement already satisfied: regex>=2021.8.3 in /home/vincent/.local/lib/python3.10/site-packages (from nltk) (2022.10.31)\n"
     ]
    },
    {
     "name": "stderr",
     "output_type": "stream",
     "text": [
      "[nltk_data] Downloading package stopwords to\n",
      "[nltk_data]     /home/vincent/nltk_data...\n",
      "[nltk_data]   Package stopwords is already up-to-date!\n",
      "[nltk_data] Downloading package punkt to /home/vincent/nltk_data...\n",
      "[nltk_data]   Package punkt is already up-to-date!\n",
      "[nltk_data] Downloading package wordnet to /home/vincent/nltk_data...\n",
      "[nltk_data]   Package wordnet is already up-to-date!\n"
     ]
    }
   ],
   "source": [
    "# when installing nltk for the first time we need to also download a few built in libraries\n",
    "!pip install nltk\n",
    "import nltk\n",
    "nltk.download('stopwords')\n",
    "nltk.download('punkt')\n",
    "nltk.download('wordnet')\n",
    "from nltk.corpus import stopwords\n",
    "from nltk.tokenize import word_tokenize\n",
    "from nltk.stem import WordNetLemmatizer\n",
    "from sklearn.feature_extraction.text import CountVectorizer\n",
    "from sklearn.naive_bayes import MultinomialNB\n",
    "from sklearn.model_selection import train_test_split, KFold, cross_val_score\n",
    "import string"
   ]
  },
  {
   "cell_type": "markdown",
   "metadata": {},
   "source": [
    "Avant de pouvoir ouvrir le fichier CSV, il va falloir le nettoyer. En effet, le fichier ne respecte pas un format consistant."
   ]
  },
  {
   "cell_type": "code",
   "execution_count": 2,
   "metadata": {},
   "outputs": [
    {
     "name": "stdout",
     "output_type": "stream",
     "text": [
      "['text,spam\\n', '\"Subject: naturally irresistible your corporate identity  lt is really hard to recollect a company : the  market is full of suqgestions and the information isoverwhelminq ; but a good  catchy logo , stylish statlonery and outstanding website  will make the task much easier .  we do not promise that havinq ordered a iogo your  company will automaticaily become a world ieader : it isguite ciear that  without good products , effective business organization and practicable aim it  will be hotat nowadays market ; but we do promise that your marketing efforts  will become much more effective . here is the list of clear  benefits : creativeness : hand - made , original logos , specially done  to reflect your distinctive company image . convenience : logo and stationery  are provided in all formats ; easy - to - use content management system letsyou  change your website content and even its structure . promptness : you  will see logo drafts within three business days . affordability : your  marketing break - through shouldn \\' t make gaps in your budget . 100 % satisfaction  guaranteed : we provide unlimited amount of changes with no extra fees for you to  be surethat you will love the result of this collaboration . have a look at our  portfolio _ _ _ _ _ _ _ _ _ _ _ _ _ _ _ _ _ _ _ _ _ _ _ _ _ _ _ _ _ _ _ _ _ _ _ _ _ _ _ _ _ _ _ _ _ _ _ _ _ _ _ _ not interested . . . _ _ _ _ _ _ _ _ _ _ _ _ _ _ _ _ _ _ _ _ _ _ _ _ _ _ _ _ _ _ _ _ _ _ _ _ _ _ _ _ _ _ _ _ _ _ _ _ _ _ _ _\",1\\n', '\"Subject: the stock trading gunslinger  fanny is merrill but muzo not colza attainder and penultimate like esmark perspicuous ramble is segovia not group try slung kansas tanzania yes chameleon or continuant clothesman no  libretto is chesapeake but tight not waterway herald and hawthorn like chisel morristown superior is deoxyribonucleic not clockwork try hall incredible mcdougall yes hepburn or einsteinian earmark no  sapling is boar but duane not plain palfrey and inflexible like huzzah pepperoni bedtime is nameable not attire try edt chronography optima yes pirogue or diffusion albeit no \",1\\n', '\"Subject: unbelievable new homes made easy  im wanting to show you this  homeowner  you have been pre - approved for a $ 454 , 169 home loan at a 3 . 72 fixed rate .  this offer is being extended to you unconditionally and your credit is in no way a factor .  to take advantage of this limited time opportunity  all we ask is that you visit our website and complete  the 1 minute post approval form  look foward to hearing from you ,  dorcas pittman\",1\\n', '\"Subject: 4 color printing special  request additional information now ! click here  click here for a printable version of our order form ( pdf format )  phone : ( 626 ) 338 - 8090 fax : ( 626 ) 338 - 8102 e - mail : ramsey @ goldengraphix . com  request additional information now ! click here  click here for a printable version of our order form ( pdf format )  golden graphix & printing 5110 azusa canyon rd . irwindale , ca 91706 this e - mail message is an advertisement and / or solicitation . \",1\\n', '\"Subject: do not have money , get software cds from here !  software compatibility . . . . ain \\' t it great ?  grow old along with me the best is yet to be .  all tradgedies are finish \\' d by death . all comedies are ended by marriage .\",1\\n', '\"Subject: great nnews  hello , welcome to medzonline sh groundsel op  we are pleased to introduce ourselves as one of the ieading online phar felicitation maceuticai shops .  helter v  shakedown r  a cosmopolitan l  l blister l  l bestow ag  ac tosher l  is coadjutor va  confidant um  andmanyother .  - sav inexpiable e over 75 %  - total confide leisure ntiaiity  - worldwide s polite hlpplng  - ov allusion er 5 miilion customers in 150 countries  have devitalize a nice day !\",1\\n', '\"Subject: here \\' s a hot play in motion  homeland security investments  the terror attacks on the united states on september 11 , 20 ol have  changed  the security landscape for the foreseeable future . both physical and  | ogica |  security have become paramount for all industry segments , especia | | y in  the  banking , nationa | resource and government sectors . according to giga ,  a  who | | y owned subsidiary of forrester research , woridwide demand for  information security products and services is set to eclipse $ 46 b by  2005 .  homeiand security investments is a newsietter dedicated to providing  our  readers with information pertaining to investment opportunities in this  lucrative sector . as we know , events related to homeland security  happen  with lightning speed . what we as investors can do is position  ourselves in  such a way as to take advantage of the current trends and be ready to  capitalize on events which have yet to happen . homeland security  investments is here to heip our readers do just that .  with this in mind , it is with great excitement that we present vinoble ,  inc .  this stock is expected to do big things in both the near and | ong  terms .  symbol : vnbl . ob  current price : o . 08  short term target price : o . 35  12 month target price : 1 . 20  * * * why we believe vnbl . ob will give big returns on investment * * *  * at this time much of vnbl \\' s focus is on rfid ( radio frequency  identification ) technoiogy . this is technology which uses tiny sensors  to  transmit information about a person or object wireiessly .  * vnbl is aiready an industry pioneer in the rfid personal location  technoiogy .  * vnbl is developing a form of rfid technology which allows companies  and  governments to wirelessly track their assets and resources . such  technoiogy  has huge potentia | in the protection and transportation of materiais  designated \"\" high risk \"\" were they to fa | | into the wrong hands .  * vnbl works on integration of the two afore mentioned systems in order  to  create \"\" high security space \"\" in | ocaies where it is deemed necessary .  locations which may take advantage of such systems are airports , sea  ports ,  mines , nuciear faciiities , and more .  * as with a | | stocks , news drives the short term price . fresh news has  made vnbl a hot buy .  news on vnbl  malibu , calif . - - ( business wire ) - - june 16 , 2 oo 5 - - vinoble , inc .  ( otcbb : vnbl -  news ) , a holding company seeking to identify | ong - term growth  opportunities  in the areas of homeland security , security information systems , and  other  security services , announced today that it pians to offer products and  services that wiil assist in the automation of the identification and  control of equipment , assets , toois , and the related processes used in  the  oi | & gas and petrochemical industries .  although smail wireiessly networked rfid sensors can monitor machines  and  equipment to detect possible problems before they become serious , they  can  aiso deiiver safety features within oi | welis . oi | maybe trapped in  different | ayers of rock , aiong with gas and water . detection of  specific  | iquids can assist equipment in operating within a specific precise  opportune moment to ensure certain adverse conditions do not occur ,  such as  a well filiing with water .  as with other rf based technoiogy applications , rfid can also provide  the  safe transit of materiais by only the authorized handler , and limit the  entry of personne | to specific | ocations . ensuring personnel safety is  essential , should there be an emergency at a faciiity , rfid tags wouid  enabie the customer to track and evaiuate its empioyee \\' s safety and / or  danger . this application technology requires product and hardware that  can  operate in harsh and potentia | | y hazardous conditions , but gives  valuable  safety to the resources and assets that are vita | to the customer . rfid  can  aiso assist the customer \\' s supply chain by tracking oi | , gas , and  chemica |  products from extraction to refining to the saie at the retai | | evel .  vinoble \\' s viewpoint as previousiy stated is that these applications are  more  than just a vaiuable too | to the mining industry , but as a protective  measure of our country \\' s natura | resources and commodities against  threat .  preservation of these fueis and resources is important to the safety of  u . s .  industry and economy .  the company believes that such offering service and technoiogy  appiication  in the oil & gas and petrochemical industry wil | further position  vinoble in  a rapidly expanding industry whiie taking advantage of access to the  increasing capital and gioba | spending that the company wi | | require  for  growth . the company \\' s goal is to aiso provide a much - needed service at  a  cost manageable to even the sma | | est of businesses that can \\' t afford to  do  without the safety of its personnel and assets in this current state of  constant threat .  this is outstanding news . the growth potential for this company is  exceptional . in an already hot industry , vnbl . ob stands out as a truiy  innovative pioneer . we see big things happening to this stock .  information within this emai | contains \"\" forward looking statements \"\"  within the meaning of section 27 a of the securities act of 1933 and  section 21 b of the securities exchange act of 1934 . any statements that  express or involve discussions with respect to predictions ,  expectations , beliefs , pians , projections , objectives , goals ,  assumptions or  future  events or performance are not statements of historica | fact and may be  \"\" forward | ooking statements . \"\" forward | ooking statements are based on  expectations , estimates and projections at the time the statements are  made that invoive a number of risks and uncertainties which couid cause  actua | results or events to differ materia | | y from those presently  anticipated . forward looking statements in this action may be  identified  through the use of words such as \"\" projects \"\" , \"\" foresee \"\" , \"\" expects \"\" ,  \"\" wi | | , \"\" \"\" anticipates , \"\" \"\" estimates , \"\" \"\" beiieves , \"\" \"\" understands \"\" or  that by  statements indicating certain actions \"\" may , \"\" \"\" couid , \"\" or \"\" might \"\" occur .  as with many micro - cap stocks , today \\' s company has additional risk  factors worth noting . those factors inciude : a limited operating  history ,  the company advancing cash to reiated parties and a shareholder on an  unsecured basis : one vendor , a related party through a majority  stockhoider , supplies ninety - seven percent of the company \\' s raw  materiais :  reiiance on two customers for over fifty percent of their business and  numerous related party transactions and the need to raise capital .  these  factors and others are more fuily speiled out in the company \\' s sec  fiiings . we urge you to read the filings before you invest . the rocket  stock  report does not represent that the information contained in this  message states ail materia | facts or does not omit a material fact  necessary  to make the statements therein not misleading . ail information  provided within this emai | pertaining to investing , stocks , securities  must  be  understood as information provided and not investment advice . the  rocket stock report advises all readers and subscribers to seek advice  from  a registered professiona | securities representative before deciding to  trade in stocks featured within this email . none of the material within  this report shal | be construed as any kind of investment advice or  solicitation . many of these companies are on the verge of bankruptcy .  you  can lose ail your money by investing in this stock . the publisher of  the rocket stock report is not a registered investment advisor .  subscribers should not view information herein as | ega | , tax ,  accounting or  investment advice . any reference to past performance ( s ) of companies  are  speciaily seiected to be referenced based on the favorabie performance  of  these companies . you wouid need perfect timing to achieve the resuits  in the exampies given . there can be no assurance of that happening .  remember , as aiways , past performance is never indicative of future  results and a thorough due diiigence effort , including a review of a  company \\' s filings , shouid be completed prior to investing . in  compiiance  with the securities act of 1933 , section 17 ( b ) , the rocket stock report  discioses the receipt of tweive thousand doilars from a third party  ( gem , inc . ) , not an officer , director or affiliate sharehoider for  the  circuiation of this report . gem , inc . has a position in the stock  they  wil | se | | at any time without notice . be aware of an inherent confiict  of interest resuiting from such compensation due to the fact that this  is a paid advertisement and we are conflicted . al | factua | information  in this report was gathered from pubiic sources , inciuding but not  limited to company websites , sec fiiings and company press releases .  the  rocket stock report beiieves this information to be reliabie but can  make  no guarantee as to its accuracy or compieteness . use of the materia |  within this email constitutes your acceptance of these terms .\",1\\n', '\"Subject: save your money buy getting this thing here  you have not tried cialls yet ?  than you cannot even imagine what it is like to be a real man in bed !  the thing is that a great errrectlon is provided for you exactiy when you want .  cialis has a lot of advantages over viagra  - the effect iasts 36 hours !  - you are ready to start within just 10 minutes !  - you can mix it with aicohol ! we ship to any country !  get it right now ! . \",1\\n', '\"Subject: undeliverable : home based business for grownups  your message  subject : home based business for grownups  sent : sun , 21 jan 2001 09 : 24 : 27 + 0100  did not reach the following recipient ( s ) :  75 @ tfi . kpn . com on mon , 25 feb 2002 13 : 32 : 23 + 0100  the recipient name is not recognized  the mts - id of the original message is : c = us ; a = ; p = ptt  telecom ; l = mtpi 70590202251232 fjt 4 d 8 q 5  msexch : ims : kpn - telecom : i : mtpi 7059 0 ( 000 co 5 a 6 ) unknown recipient\",1\\n']\n"
     ]
    }
   ],
   "source": [
    "def fix_broken_csv():\n",
    "    \"\"\"Fonction qui répare le csv et stocke les données 'propres' dans un fichier clean_emails.csv\"\"\"\n",
    "    \n",
    "    data = [\"text,spam\\n\"]\n",
    "\n",
    "    with open(\"emails.csv\", \"r\") as file:\n",
    "\n",
    "        lines = file.readlines()\n",
    "\n",
    "        for line in lines:\n",
    "            label = line.split(\",\")[-1]\n",
    "            text = line.removesuffix(label)\n",
    "\n",
    "            clean_label = None\n",
    "\n",
    "            for letter in label:\n",
    "                if letter.isdigit(): \n",
    "                    clean_label = letter\n",
    "                    break\n",
    "            if not clean_label : continue\n",
    "\n",
    "            clean_text = text.rstrip(\",\").strip('\"')\n",
    "            clean_text = '\"' + clean_text + '\"'\n",
    "            data.append(clean_text + \",\"  + clean_label + \"\\n\")\n",
    "            \n",
    "        print(data[:10])\n",
    "\n",
    "        with open(\"clean_emails.csv\", \"w\") as clean_file:\n",
    "            clean_file.writelines(data)\n",
    "        \n",
    "            \n",
    "fix_broken_csv()      \n"
   ]
  },
  {
   "cell_type": "code",
   "execution_count": 3,
   "metadata": {
    "scrolled": false
   },
   "outputs": [
    {
     "data": {
      "text/html": [
       "<div>\n",
       "<style scoped>\n",
       "    .dataframe tbody tr th:only-of-type {\n",
       "        vertical-align: middle;\n",
       "    }\n",
       "\n",
       "    .dataframe tbody tr th {\n",
       "        vertical-align: top;\n",
       "    }\n",
       "\n",
       "    .dataframe thead th {\n",
       "        text-align: right;\n",
       "    }\n",
       "</style>\n",
       "<table border=\"1\" class=\"dataframe\">\n",
       "  <thead>\n",
       "    <tr style=\"text-align: right;\">\n",
       "      <th></th>\n",
       "      <th>text</th>\n",
       "      <th>spam</th>\n",
       "    </tr>\n",
       "  </thead>\n",
       "  <tbody>\n",
       "    <tr>\n",
       "      <th>0</th>\n",
       "      <td>Subject: naturally irresistible your corporate...</td>\n",
       "      <td>1</td>\n",
       "    </tr>\n",
       "    <tr>\n",
       "      <th>1</th>\n",
       "      <td>Subject: the stock trading gunslinger  fanny i...</td>\n",
       "      <td>1</td>\n",
       "    </tr>\n",
       "    <tr>\n",
       "      <th>2</th>\n",
       "      <td>Subject: unbelievable new homes made easy  im ...</td>\n",
       "      <td>1</td>\n",
       "    </tr>\n",
       "    <tr>\n",
       "      <th>3</th>\n",
       "      <td>Subject: 4 color printing special  request add...</td>\n",
       "      <td>1</td>\n",
       "    </tr>\n",
       "    <tr>\n",
       "      <th>4</th>\n",
       "      <td>Subject: do not have money , get software cds ...</td>\n",
       "      <td>1</td>\n",
       "    </tr>\n",
       "  </tbody>\n",
       "</table>\n",
       "</div>"
      ],
      "text/plain": [
       "                                                text  spam\n",
       "0  Subject: naturally irresistible your corporate...     1\n",
       "1  Subject: the stock trading gunslinger  fanny i...     1\n",
       "2  Subject: unbelievable new homes made easy  im ...     1\n",
       "3  Subject: 4 color printing special  request add...     1\n",
       "4  Subject: do not have money , get software cds ...     1"
      ]
     },
     "execution_count": 3,
     "metadata": {},
     "output_type": "execute_result"
    }
   ],
   "source": [
    "import pandas as pd\n",
    "\n",
    "df = pd.read_csv(\"clean_emails.csv\")\n",
    "\n",
    "df.head()"
   ]
  },
  {
   "cell_type": "markdown",
   "metadata": {},
   "source": [
    "The dataset is made up of email that are classified as ham [0] or spam[1]. You need to clean the dataset before training a prediction model."
   ]
  },
  {
   "cell_type": "markdown",
   "metadata": {},
   "source": [
    "## Remove Punctuation"
   ]
  },
  {
   "cell_type": "markdown",
   "metadata": {},
   "source": [
    "👇 Create a function to remove the punctuation. Apply it to the entire data and add the output as a new column in the dataframe called `clean_text`"
   ]
  },
  {
   "cell_type": "code",
   "execution_count": 4,
   "metadata": {},
   "outputs": [
    {
     "name": "stdout",
     "output_type": "stream",
     "text": [
      "                                                text  spam  \\\n",
      "0  Subject: naturally irresistible your corporate...     1   \n",
      "1  Subject: the stock trading gunslinger  fanny i...     1   \n",
      "2  Subject: unbelievable new homes made easy  im ...     1   \n",
      "3  Subject: 4 color printing special  request add...     1   \n",
      "4  Subject: do not have money , get software cds ...     1   \n",
      "\n",
      "                                          clean_text  \n",
      "0  Subject naturally irresistible your corporate ...  \n",
      "1  Subject the stock trading gunslinger  fanny is...  \n",
      "2  Subject unbelievable new homes made easy  im w...  \n",
      "3  Subject 4 color printing special  request addi...  \n",
      "4  Subject do not have money  get software cds fr...  \n"
     ]
    }
   ],
   "source": [
    "def remove_punctuations(text):\n",
    "    for punctuation in string.punctuation:\n",
    "        text = text.replace(punctuation, '')\n",
    "    return text\n",
    "\n",
    "df[\"clean_text\"] = df['text'].apply(remove_punctuations)\n",
    "print(df.head())"
   ]
  },
  {
   "cell_type": "markdown",
   "metadata": {},
   "source": [
    "## Lower Case"
   ]
  },
  {
   "cell_type": "markdown",
   "metadata": {},
   "source": [
    "👇 Create a function to lower case the text. Apply it to `clean_text`"
   ]
  },
  {
   "cell_type": "code",
   "execution_count": 5,
   "metadata": {},
   "outputs": [
    {
     "name": "stdout",
     "output_type": "stream",
     "text": [
      "                                                text  spam  \\\n",
      "0  Subject: naturally irresistible your corporate...     1   \n",
      "1  Subject: the stock trading gunslinger  fanny i...     1   \n",
      "2  Subject: unbelievable new homes made easy  im ...     1   \n",
      "3  Subject: 4 color printing special  request add...     1   \n",
      "4  Subject: do not have money , get software cds ...     1   \n",
      "\n",
      "                                          clean_text  \n",
      "0  subject naturally irresistible your corporate ...  \n",
      "1  subject the stock trading gunslinger  fanny is...  \n",
      "2  subject unbelievable new homes made easy  im w...  \n",
      "3  subject 4 color printing special  request addi...  \n",
      "4  subject do not have money  get software cds fr...  \n"
     ]
    }
   ],
   "source": [
    "def lower_all(text): return text.lower()\n",
    "df[\"clean_text\"] = df[\"clean_text\"].apply(lower_all)\n",
    "print(df.head())"
   ]
  },
  {
   "cell_type": "markdown",
   "metadata": {},
   "source": [
    "## Remove Numbers"
   ]
  },
  {
   "cell_type": "markdown",
   "metadata": {},
   "source": [
    "👇 Create a function to remove numbers from the text. Apply it to `clean_text`"
   ]
  },
  {
   "cell_type": "code",
   "execution_count": 6,
   "metadata": {},
   "outputs": [
    {
     "name": "stdout",
     "output_type": "stream",
     "text": [
      "                                                text  spam  \\\n",
      "0  Subject: naturally irresistible your corporate...     1   \n",
      "1  Subject: the stock trading gunslinger  fanny i...     1   \n",
      "2  Subject: unbelievable new homes made easy  im ...     1   \n",
      "3  Subject: 4 color printing special  request add...     1   \n",
      "4  Subject: do not have money , get software cds ...     1   \n",
      "\n",
      "                                          clean_text  \n",
      "0  subject naturally irresistible your corporate ...  \n",
      "1  subject the stock trading gunslinger  fanny is...  \n",
      "2  subject unbelievable new homes made easy  im w...  \n",
      "3  subject  color printing special  request addit...  \n",
      "4  subject do not have money  get software cds fr...  \n"
     ]
    }
   ],
   "source": [
    "def remove_numbers(text):\n",
    "    \n",
    "    processed_text = \"\"\n",
    "    for letter in text:\n",
    "        if not letter.isdigit():\n",
    "            processed_text += letter\n",
    "    return processed_text\n",
    "\n",
    "df[\"clean_text\"] = df[\"clean_text\"].apply(remove_numbers)\n",
    "print(df.head())"
   ]
  },
  {
   "cell_type": "markdown",
   "metadata": {},
   "source": [
    "## Remove StopWords"
   ]
  },
  {
   "cell_type": "markdown",
   "metadata": {},
   "source": [
    "👇 Create a function to remove stopwords from the text. Apply it to `clean_text`."
   ]
  },
  {
   "cell_type": "code",
   "execution_count": 7,
   "metadata": {},
   "outputs": [
    {
     "name": "stdout",
     "output_type": "stream",
     "text": [
      "                                                text  spam  \\\n",
      "0  Subject: naturally irresistible your corporate...     1   \n",
      "1  Subject: the stock trading gunslinger  fanny i...     1   \n",
      "2  Subject: unbelievable new homes made easy  im ...     1   \n",
      "3  Subject: 4 color printing special  request add...     1   \n",
      "4  Subject: do not have money , get software cds ...     1   \n",
      "\n",
      "                                          clean_text  \n",
      "0  subject naturally irresistible corporate ident...  \n",
      "1  subject stock trading gunslinger fanny merrill...  \n",
      "2  subject unbelievable new homes made easy im wa...  \n",
      "3  subject color printing special request additio...  \n",
      "4  subject money get software cds software compat...  \n"
     ]
    }
   ],
   "source": [
    "stop = stopwords.words(\"english\")\n",
    "\n",
    "def remove_stopwords(text):\n",
    "    \n",
    "    text_tokens = word_tokenize(text)\n",
    "    tokens_without_sw = [word for word in text_tokens if not word in stop]\n",
    "    return \" \".join(tokens_without_sw)\n",
    "\n",
    "df[\"clean_text\"] = df[\"clean_text\"].apply(remove_stopwords)\n",
    "print(df.head())"
   ]
  },
  {
   "cell_type": "markdown",
   "metadata": {},
   "source": [
    "## Lemmatize"
   ]
  },
  {
   "cell_type": "markdown",
   "metadata": {},
   "source": [
    "👇 Create a function to lemmatize the text. Make sure the output is a single string, not a list of words. Apply it to `clean_text`."
   ]
  },
  {
   "cell_type": "code",
   "execution_count": 8,
   "metadata": {},
   "outputs": [
    {
     "name": "stdout",
     "output_type": "stream",
     "text": [
      "                                                text  spam  \\\n",
      "0  Subject: naturally irresistible your corporate...     1   \n",
      "1  Subject: the stock trading gunslinger  fanny i...     1   \n",
      "2  Subject: unbelievable new homes made easy  im ...     1   \n",
      "3  Subject: 4 color printing special  request add...     1   \n",
      "4  Subject: do not have money , get software cds ...     1   \n",
      "\n",
      "                                          clean_text  \n",
      "0  subject naturally irresistible corporate ident...  \n",
      "1  subject stock trading gunslinger fanny merrill...  \n",
      "2  subject unbelievable new home made easy im wan...  \n",
      "3  subject color printing special request additio...  \n",
      "4  subject money get software cd software compati...  \n"
     ]
    }
   ],
   "source": [
    "lemmatizer = WordNetLemmatizer()\n",
    "\n",
    "def lemmatize(text):\n",
    "    \n",
    "    words = text.split(\" \")\n",
    "    lem_words = \"\"\n",
    "    for w in words:\n",
    "        lem_words += lemmatizer.lemmatize(w)\n",
    "        lem_words += \" \"\n",
    "    return lem_words.strip(\" \")\n",
    "\n",
    "df[\"clean_text\"] = df[\"clean_text\"].apply(lemmatize)\n",
    "print(df.head())"
   ]
  },
  {
   "cell_type": "markdown",
   "metadata": {},
   "source": [
    "## Bag-of-words Modelling"
   ]
  },
  {
   "cell_type": "markdown",
   "metadata": {},
   "source": [
    "👇 Vectorize the `clean_text` to a Bag-of-Words representation with a default CountVectorizer . Save as `X_bow`."
   ]
  },
  {
   "cell_type": "code",
   "execution_count": 9,
   "metadata": {},
   "outputs": [
    {
     "name": "stdout",
     "output_type": "stream",
     "text": [
      "  (0, 26346)\t1\n",
      "  (0, 18141)\t1\n",
      "  (0, 13914)\t1\n",
      "  (0, 5876)\t1\n",
      "  (0, 12861)\t1\n",
      "  (0, 16075)\t1\n",
      "  (0, 22382)\t1\n",
      "  (0, 11915)\t1\n",
      "  (0, 22498)\t1\n",
      "  (0, 5185)\t3\n",
      "  (0, 16556)\t2\n",
      "  (0, 10760)\t1\n",
      "  (0, 26584)\t1\n",
      "  (0, 13366)\t1\n",
      "  (0, 13957)\t1\n",
      "  (0, 11375)\t2\n",
      "  (0, 4059)\t1\n",
      "  (0, 15900)\t4\n",
      "  (0, 26327)\t1\n",
      "  (0, 26010)\t1\n",
      "  (0, 19515)\t1\n",
      "  (0, 29751)\t2\n",
      "  (0, 16351)\t2\n",
      "  (0, 26992)\t1\n",
      "  (0, 17828)\t2\n",
      "  :\t:\n",
      "  (5727, 6145)\t1\n",
      "  (5727, 8333)\t1\n",
      "  (5727, 8013)\t1\n",
      "  (5727, 11488)\t1\n",
      "  (5727, 17618)\t1\n",
      "  (5727, 3942)\t1\n",
      "  (5727, 16528)\t1\n",
      "  (5727, 1926)\t9\n",
      "  (5727, 25055)\t1\n",
      "  (5727, 8867)\t1\n",
      "  (5727, 8676)\t2\n",
      "  (5727, 12574)\t1\n",
      "  (5727, 9597)\t1\n",
      "  (5727, 15280)\t1\n",
      "  (5727, 25886)\t1\n",
      "  (5727, 15455)\t1\n",
      "  (5727, 29074)\t1\n",
      "  (5727, 4586)\t1\n",
      "  (5727, 24294)\t1\n",
      "  (5727, 9037)\t5\n",
      "  (5727, 29896)\t1\n",
      "  (5727, 24475)\t1\n",
      "  (5727, 12759)\t1\n",
      "  (5727, 27797)\t1\n",
      "  (5727, 7075)\t1\n"
     ]
    }
   ],
   "source": [
    "vectorizer = CountVectorizer()\n",
    "X_bow = vectorizer.fit_transform(df[\"clean_text\"])\n",
    "print(X_bow)"
   ]
  },
  {
   "cell_type": "markdown",
   "metadata": {},
   "source": [
    "👇 Cross-validate a MultinomialNB model with the Bag-of-words. Score the model's accuracy."
   ]
  },
  {
   "cell_type": "code",
   "execution_count": 10,
   "metadata": {},
   "outputs": [
    {
     "name": "stdout",
     "output_type": "stream",
     "text": [
      "Accuracy with cross_validation:\n",
      "[0.9930192  0.98254799 0.9895288  0.991274   0.991274   0.9947644\n",
      " 0.991274   0.9895288  0.98776224 0.99125874]\n"
     ]
    }
   ],
   "source": [
    "print(\"Accuracies with cross_validation:\")\n",
    "model = MultinomialNB()\n",
    "k_fold = KFold(n_splits=10, shuffle=True, random_state=0)\n",
    "clf = model\n",
    "print(cross_val_score(clf, X_bow, df[\"spam\"], cv=k_fold, n_jobs=1))\n"
   ]
  },
  {
   "cell_type": "markdown",
   "metadata": {},
   "source": [
    "⚠️ Please push the exercise once you are done 🙃\n",
    "\n",
    "## 🏁 "
   ]
  }
 ],
 "metadata": {
  "kernelspec": {
   "display_name": "Python 3 (ipykernel)",
   "language": "python",
   "name": "python3"
  },
  "language_info": {
   "codemirror_mode": {
    "name": "ipython",
    "version": 3
   },
   "file_extension": ".py",
   "mimetype": "text/x-python",
   "name": "python",
   "nbconvert_exporter": "python",
   "pygments_lexer": "ipython3",
   "version": "3.10.6"
  },
  "toc": {
   "base_numbering": 1,
   "nav_menu": {},
   "number_sections": false,
   "sideBar": true,
   "skip_h1_title": false,
   "title_cell": "Table of Contents",
   "title_sidebar": "Contents",
   "toc_cell": false,
   "toc_position": {},
   "toc_section_display": true,
   "toc_window_display": true
  },
  "varInspector": {
   "cols": {
    "lenName": 16,
    "lenType": 16,
    "lenVar": 40
   },
   "kernels_config": {
    "python": {
     "delete_cmd_postfix": "",
     "delete_cmd_prefix": "del ",
     "library": "var_list.py",
     "varRefreshCmd": "print(var_dic_list())"
    },
    "r": {
     "delete_cmd_postfix": ") ",
     "delete_cmd_prefix": "rm(",
     "library": "var_list.r",
     "varRefreshCmd": "cat(var_dic_list()) "
    }
   },
   "types_to_exclude": [
    "module",
    "function",
    "builtin_function_or_method",
    "instance",
    "_Feature"
   ],
   "window_display": false
  }
 },
 "nbformat": 4,
 "nbformat_minor": 4
}
